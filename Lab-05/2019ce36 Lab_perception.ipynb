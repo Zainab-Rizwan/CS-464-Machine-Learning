{
  "nbformat": 4,
  "nbformat_minor": 0,
  "metadata": {
    "colab": {
      "provenance": [],
      "collapsed_sections": []
    },
    "kernelspec": {
      "name": "python3",
      "display_name": "Python 3"
    },
    "language_info": {
      "name": "python"
    }
  },
  "cells": [
    {
      "cell_type": "code",
      "execution_count": 7,
      "metadata": {
        "id": "0UqUBQ99M75w"
      },
      "outputs": [],
      "source": [
        "import pandas as pd\n",
        "from sklearn.linear_model import Perceptron\n",
        "from sklearn import preprocessing\n",
        "import numpy as np"
      ]
    },
    {
      "cell_type": "code",
      "source": [
        "dataset = np.array([\n",
        "                    ['Low' ,'High','Sunny'  ,'Grassy'  ,'Open air','Low' ,'No'],\n",
        "                    ['Mild','Low' ,'Rainy'  ,'Clay'    ,'Enclosed','Mild','Yes'],\n",
        "                    ['High','Mild','Outcast','Cemented','Open air','High','Yes'],\n",
        "                    ['Low' ,'Mild','Rainy'  ,'Clay'    ,'Enclosed','Mild','No'],\n",
        "                    ['Mild','Low' ,'Outcast','Clay'    ,'Open air','High','Yes'],\n",
        "                    ['High','High','Outcast','Cemented','Enclosed','Low' ,'Yes'],\n",
        "                    ['Low' ,'Low' ,'Sunny'  ,'Grassy'  ,'Open air','Mild','Yes'],\n",
        "                    ['Mild','Mild','Sunny'  ,'Grassy'  ,'Enclosed','High','Yes'],\n",
        "                    ['High','High','Rainy'  ,'Clay'    ,'Open air','Low' ,'Yes'],\n",
        "                    ['Low' ,'High','Outcast','Cemented','Enclosed','Mild','Yes'],\n",
        "                    ['Mild','Low' ,'Sunny'  ,'Clay'    ,'Open air','High','Yes'],\n",
        "                    ['High','Mild','Sunny'  ,'Grassy'  ,'Enclosed','High','Yes'],\n",
        "                    ['Low' ,'Mild','Rainy'  ,'Clay'    ,'Open air','High','Yes'],\n",
        "                    ['Mild','Low' ,'Outcast','Cemented','Enclosed','Low' ,'Yes'],\n",
        "                    ['High','Low' ,'Sunny'  ,'Cemented','Open air','Low' ,'Yes'],\n",
        "                    ['Low' ,'Mild','Outcast','Grassy'  ,'Enclosed','Low' ,'Yes'],\n",
        "                    ['Mild','Mild','Sunny'  ,'Clay'    ,'Open air','Mild','Yes'],\n",
        "                    ['High','High','Rainy'  ,'Grassy'  ,'Enclosed','High','Yes'],\n",
        "                    ['Low' ,'High','Outcast','Clay'    ,'Open air','Low' ,'Yes'],\n",
        "                    ['Mild','High','Outcast','Cemented','Enclosed','Mild','Yes']])"
      ],
      "metadata": {
        "id": "gbs-AR7WOE42"
      },
      "execution_count": 8,
      "outputs": []
    },
    {
      "cell_type": "code",
      "source": [
        "print(dataset)"
      ],
      "metadata": {
        "colab": {
          "base_uri": "https://localhost:8080/"
        },
        "id": "ahID5ZygdVeF",
        "outputId": "8397dc23-38b1-4b14-cc46-90a06ba670d1"
      },
      "execution_count": 9,
      "outputs": [
        {
          "output_type": "stream",
          "name": "stdout",
          "text": [
            "[['Low' 'High' 'Sunny' 'Grassy' 'Open air' 'Low' 'No']\n",
            " ['Mild' 'Low' 'Rainy' 'Clay' 'Enclosed' 'Mild' 'Yes']\n",
            " ['High' 'Mild' 'Outcast' 'Cemented' 'Open air' 'High' 'Yes']\n",
            " ['Low' 'Mild' 'Rainy' 'Clay' 'Enclosed' 'Mild' 'No']\n",
            " ['Mild' 'Low' 'Outcast' 'Clay' 'Open air' 'High' 'Yes']\n",
            " ['High' 'High' 'Outcast' 'Cemented' 'Enclosed' 'Low' 'Yes']\n",
            " ['Low' 'Low' 'Sunny' 'Grassy' 'Open air' 'Mild' 'Yes']\n",
            " ['Mild' 'Mild' 'Sunny' 'Grassy' 'Enclosed' 'High' 'Yes']\n",
            " ['High' 'High' 'Rainy' 'Clay' 'Open air' 'Low' 'Yes']\n",
            " ['Low' 'High' 'Outcast' 'Cemented' 'Enclosed' 'Mild' 'Yes']\n",
            " ['Mild' 'Low' 'Sunny' 'Clay' 'Open air' 'High' 'Yes']\n",
            " ['High' 'Mild' 'Sunny' 'Grassy' 'Enclosed' 'High' 'Yes']\n",
            " ['Low' 'Mild' 'Rainy' 'Clay' 'Open air' 'High' 'Yes']\n",
            " ['Mild' 'Low' 'Outcast' 'Cemented' 'Enclosed' 'Low' 'Yes']\n",
            " ['High' 'Low' 'Sunny' 'Cemented' 'Open air' 'Low' 'Yes']\n",
            " ['Low' 'Mild' 'Outcast' 'Grassy' 'Enclosed' 'Low' 'Yes']\n",
            " ['Mild' 'Mild' 'Sunny' 'Clay' 'Open air' 'Mild' 'Yes']\n",
            " ['High' 'High' 'Rainy' 'Grassy' 'Enclosed' 'High' 'Yes']\n",
            " ['Low' 'High' 'Outcast' 'Clay' 'Open air' 'Low' 'Yes']\n",
            " ['Mild' 'High' 'Outcast' 'Cemented' 'Enclosed' 'Mild' 'Yes']]\n"
          ]
        }
      ]
    },
    {
      "cell_type": "code",
      "source": [
        "Features = dataset[:,0:-1]"
      ],
      "metadata": {
        "id": "XsFaXWO0daLq"
      },
      "execution_count": 10,
      "outputs": []
    },
    {
      "cell_type": "code",
      "source": [
        "print(Features)"
      ],
      "metadata": {
        "colab": {
          "base_uri": "https://localhost:8080/"
        },
        "id": "TMytppvMdbVF",
        "outputId": "fc3e7547-0c59-49a0-b480-7fe13f118a98"
      },
      "execution_count": 11,
      "outputs": [
        {
          "output_type": "stream",
          "name": "stdout",
          "text": [
            "[['Low' 'High' 'Sunny' 'Grassy' 'Open air' 'Low']\n",
            " ['Mild' 'Low' 'Rainy' 'Clay' 'Enclosed' 'Mild']\n",
            " ['High' 'Mild' 'Outcast' 'Cemented' 'Open air' 'High']\n",
            " ['Low' 'Mild' 'Rainy' 'Clay' 'Enclosed' 'Mild']\n",
            " ['Mild' 'Low' 'Outcast' 'Clay' 'Open air' 'High']\n",
            " ['High' 'High' 'Outcast' 'Cemented' 'Enclosed' 'Low']\n",
            " ['Low' 'Low' 'Sunny' 'Grassy' 'Open air' 'Mild']\n",
            " ['Mild' 'Mild' 'Sunny' 'Grassy' 'Enclosed' 'High']\n",
            " ['High' 'High' 'Rainy' 'Clay' 'Open air' 'Low']\n",
            " ['Low' 'High' 'Outcast' 'Cemented' 'Enclosed' 'Mild']\n",
            " ['Mild' 'Low' 'Sunny' 'Clay' 'Open air' 'High']\n",
            " ['High' 'Mild' 'Sunny' 'Grassy' 'Enclosed' 'High']\n",
            " ['Low' 'Mild' 'Rainy' 'Clay' 'Open air' 'High']\n",
            " ['Mild' 'Low' 'Outcast' 'Cemented' 'Enclosed' 'Low']\n",
            " ['High' 'Low' 'Sunny' 'Cemented' 'Open air' 'Low']\n",
            " ['Low' 'Mild' 'Outcast' 'Grassy' 'Enclosed' 'Low']\n",
            " ['Mild' 'Mild' 'Sunny' 'Clay' 'Open air' 'Mild']\n",
            " ['High' 'High' 'Rainy' 'Grassy' 'Enclosed' 'High']\n",
            " ['Low' 'High' 'Outcast' 'Clay' 'Open air' 'Low']\n",
            " ['Mild' 'High' 'Outcast' 'Cemented' 'Enclosed' 'Mild']]\n"
          ]
        }
      ]
    },
    {
      "cell_type": "code",
      "source": [
        "target = dataset[:,-1]"
      ],
      "metadata": {
        "id": "X3ZTJcD_dfgd"
      },
      "execution_count": 12,
      "outputs": []
    },
    {
      "cell_type": "code",
      "source": [
        "print(target)"
      ],
      "metadata": {
        "colab": {
          "base_uri": "https://localhost:8080/"
        },
        "id": "QCNBKbPCdgI0",
        "outputId": "2ee13cb4-02b1-48e3-9539-180c1d87d645"
      },
      "execution_count": 13,
      "outputs": [
        {
          "output_type": "stream",
          "name": "stdout",
          "text": [
            "['No' 'Yes' 'Yes' 'No' 'Yes' 'Yes' 'Yes' 'Yes' 'Yes' 'Yes' 'Yes' 'Yes'\n",
            " 'Yes' 'Yes' 'Yes' 'Yes' 'Yes' 'Yes' 'Yes' 'Yes']\n"
          ]
        }
      ]
    },
    {
      "cell_type": "code",
      "source": [
        "enc = preprocessing.OrdinalEncoder()"
      ],
      "metadata": {
        "colab": {
          "base_uri": "https://localhost:8080/"
        },
        "id": "5ttjOjRfdmRs",
        "outputId": "3cb091fd-f993-4843-d6c2-eeccc0c86b53"
      },
      "execution_count": 14,
      "outputs": [
        {
          "output_type": "stream",
          "name": "stdout",
          "text": [
            "OrdinalEncoder()\n"
          ]
        }
      ]
    },
    {
      "cell_type": "code",
      "source": [
        "enc.fit(Features)\n",
        "print(Features)"
      ],
      "metadata": {
        "colab": {
          "base_uri": "https://localhost:8080/"
        },
        "id": "4YuWupiTdo3L",
        "outputId": "69dfad8f-a486-401a-f8de-5012dd86fb06"
      },
      "execution_count": 15,
      "outputs": [
        {
          "output_type": "stream",
          "name": "stdout",
          "text": [
            "[['Low' 'High' 'Sunny' 'Grassy' 'Open air' 'Low']\n",
            " ['Mild' 'Low' 'Rainy' 'Clay' 'Enclosed' 'Mild']\n",
            " ['High' 'Mild' 'Outcast' 'Cemented' 'Open air' 'High']\n",
            " ['Low' 'Mild' 'Rainy' 'Clay' 'Enclosed' 'Mild']\n",
            " ['Mild' 'Low' 'Outcast' 'Clay' 'Open air' 'High']\n",
            " ['High' 'High' 'Outcast' 'Cemented' 'Enclosed' 'Low']\n",
            " ['Low' 'Low' 'Sunny' 'Grassy' 'Open air' 'Mild']\n",
            " ['Mild' 'Mild' 'Sunny' 'Grassy' 'Enclosed' 'High']\n",
            " ['High' 'High' 'Rainy' 'Clay' 'Open air' 'Low']\n",
            " ['Low' 'High' 'Outcast' 'Cemented' 'Enclosed' 'Mild']\n",
            " ['Mild' 'Low' 'Sunny' 'Clay' 'Open air' 'High']\n",
            " ['High' 'Mild' 'Sunny' 'Grassy' 'Enclosed' 'High']\n",
            " ['Low' 'Mild' 'Rainy' 'Clay' 'Open air' 'High']\n",
            " ['Mild' 'Low' 'Outcast' 'Cemented' 'Enclosed' 'Low']\n",
            " ['High' 'Low' 'Sunny' 'Cemented' 'Open air' 'Low']\n",
            " ['Low' 'Mild' 'Outcast' 'Grassy' 'Enclosed' 'Low']\n",
            " ['Mild' 'Mild' 'Sunny' 'Clay' 'Open air' 'Mild']\n",
            " ['High' 'High' 'Rainy' 'Grassy' 'Enclosed' 'High']\n",
            " ['Low' 'High' 'Outcast' 'Clay' 'Open air' 'Low']\n",
            " ['Mild' 'High' 'Outcast' 'Cemented' 'Enclosed' 'Mild']]\n"
          ]
        }
      ]
    },
    {
      "cell_type": "code",
      "source": [
        "features = enc.transform(Features)"
      ],
      "metadata": {
        "id": "9i34mS3TduwL"
      },
      "execution_count": 16,
      "outputs": []
    },
    {
      "cell_type": "code",
      "source": [
        "print(features)"
      ],
      "metadata": {
        "colab": {
          "base_uri": "https://localhost:8080/"
        },
        "id": "AUZqJGY4dxBj",
        "outputId": "40843724-b554-4496-9315-0fb4229328a0"
      },
      "execution_count": 17,
      "outputs": [
        {
          "output_type": "stream",
          "name": "stdout",
          "text": [
            "[[1. 0. 2. 2. 1. 1.]\n",
            " [2. 1. 1. 1. 0. 2.]\n",
            " [0. 2. 0. 0. 1. 0.]\n",
            " [1. 2. 1. 1. 0. 2.]\n",
            " [2. 1. 0. 1. 1. 0.]\n",
            " [0. 0. 0. 0. 0. 1.]\n",
            " [1. 1. 2. 2. 1. 2.]\n",
            " [2. 2. 2. 2. 0. 0.]\n",
            " [0. 0. 1. 1. 1. 1.]\n",
            " [1. 0. 0. 0. 0. 2.]\n",
            " [2. 1. 2. 1. 1. 0.]\n",
            " [0. 2. 2. 2. 0. 0.]\n",
            " [1. 2. 1. 1. 1. 0.]\n",
            " [2. 1. 0. 0. 0. 1.]\n",
            " [0. 1. 2. 0. 1. 1.]\n",
            " [1. 2. 0. 2. 0. 1.]\n",
            " [2. 2. 2. 1. 1. 2.]\n",
            " [0. 0. 1. 2. 0. 0.]\n",
            " [1. 0. 0. 1. 1. 1.]\n",
            " [2. 0. 0. 0. 0. 2.]]\n"
          ]
        }
      ]
    },
    {
      "cell_type": "code",
      "source": [
        "model = Perceptron()\n",
        "fitted = model.fit(features, target)"
      ],
      "metadata": {
        "id": "GZrk1NY1d09C"
      },
      "execution_count": 18,
      "outputs": []
    },
    {
      "cell_type": "code",
      "source": [
        "guess = np.array([[\"High\",\"High\",\"Rainy\",\"Clay\",\"Open air\",\"Low\"]])\n"
      ],
      "metadata": {
        "id": "NkAMMlopd4_u"
      },
      "execution_count": 19,
      "outputs": []
    },
    {
      "cell_type": "code",
      "source": [
        "prediction = fitted.predict(enc.transform(guess))"
      ],
      "metadata": {
        "id": "ttaHspEmeQ8l"
      },
      "execution_count": 20,
      "outputs": []
    },
    {
      "cell_type": "code",
      "source": [
        "print(prediction)"
      ],
      "metadata": {
        "colab": {
          "base_uri": "https://localhost:8080/"
        },
        "id": "DgHtzKBHeS53",
        "outputId": "48528ab5-b8d6-4ec1-bdb9-4129c1d77cbb"
      },
      "execution_count": 21,
      "outputs": [
        {
          "output_type": "stream",
          "name": "stdout",
          "text": [
            "['No']\n"
          ]
        }
      ]
    },
    {
      "cell_type": "code",
      "source": [
        "guess = np.array([[\"High\",\"Low\",\"Sunny\",\"Cemented\",\"Open air\",\"High\"]])\n"
      ],
      "metadata": {
        "id": "4S3IQ0hRfCs0"
      },
      "execution_count": 22,
      "outputs": []
    },
    {
      "cell_type": "code",
      "source": [
        "prediction = fitted.predict(enc.transform(guess))"
      ],
      "metadata": {
        "id": "1s_8xPwjfJxW"
      },
      "execution_count": 23,
      "outputs": []
    },
    {
      "cell_type": "code",
      "source": [
        "print(prediction)"
      ],
      "metadata": {
        "colab": {
          "base_uri": "https://localhost:8080/"
        },
        "id": "0pceiXNBfKk1",
        "outputId": "22f4b29b-b35f-4985-bbe3-e4a5a8663bc1"
      },
      "execution_count": 24,
      "outputs": [
        {
          "output_type": "stream",
          "name": "stdout",
          "text": [
            "['Yes']\n"
          ]
        }
      ]
    }
  ]
}