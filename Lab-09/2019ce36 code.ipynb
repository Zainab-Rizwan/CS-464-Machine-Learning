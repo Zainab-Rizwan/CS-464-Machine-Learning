{
  "nbformat": 4,
  "nbformat_minor": 0,
  "metadata": {
    "colab": {
      "provenance": []
    },
    "kernelspec": {
      "name": "python3",
      "display_name": "Python 3"
    },
    "language_info": {
      "name": "python"
    }
  },
  "cells": [
    {
      "cell_type": "code",
      "execution_count": 43,
      "metadata": {
        "id": "oWpBlJpl3fxN"
      },
      "outputs": [],
      "source": [
        "import matplotlib.pyplot as plt\n",
        "import tensorflow.compat.v1 as tf\n",
        "tf.disable_v2_behavior()\n",
        "import numpy as np\n",
        "import pandas as pd\n",
        "from sklearn.preprocessing import LabelEncoder\n",
        "from sklearn.utils import shuffle\n",
        "from sklearn.model_selection import train_test_split"
      ]
    },
    {
      "cell_type": "code",
      "source": [
        "pip install plot-keras-history"
      ],
      "metadata": {
        "colab": {
          "base_uri": "https://localhost:8080/"
        },
        "id": "oHqGQnv9KgBn",
        "outputId": "f369859c-ccfe-432f-f46f-dac2222aeaa7"
      },
      "execution_count": 44,
      "outputs": [
        {
          "output_type": "stream",
          "name": "stdout",
          "text": [
            "Looking in indexes: https://pypi.org/simple, https://us-python.pkg.dev/colab-wheels/public/simple/\n",
            "Requirement already satisfied: plot-keras-history in /usr/local/lib/python3.7/dist-packages (1.1.37)\n",
            "Requirement already satisfied: support-developer>=1.0.2 in /usr/local/lib/python3.7/dist-packages (from plot-keras-history) (1.0.4)\n",
            "Requirement already satisfied: pandas in /usr/local/lib/python3.7/dist-packages (from plot-keras-history) (1.3.5)\n",
            "Requirement already satisfied: sanitize-ml-labels>=1.0.48 in /usr/local/lib/python3.7/dist-packages (from plot-keras-history) (1.0.49)\n",
            "Requirement already satisfied: matplotlib in /usr/local/lib/python3.7/dist-packages (from plot-keras-history) (3.2.2)\n",
            "Requirement already satisfied: scipy in /usr/local/lib/python3.7/dist-packages (from plot-keras-history) (1.7.3)\n",
            "Requirement already satisfied: compress-json in /usr/local/lib/python3.7/dist-packages (from sanitize-ml-labels>=1.0.48->plot-keras-history) (1.0.8)\n",
            "Requirement already satisfied: python-dateutil>=2.1 in /usr/local/lib/python3.7/dist-packages (from matplotlib->plot-keras-history) (2.8.2)\n",
            "Requirement already satisfied: cycler>=0.10 in /usr/local/lib/python3.7/dist-packages (from matplotlib->plot-keras-history) (0.11.0)\n",
            "Requirement already satisfied: pyparsing!=2.0.4,!=2.1.2,!=2.1.6,>=2.0.1 in /usr/local/lib/python3.7/dist-packages (from matplotlib->plot-keras-history) (3.0.9)\n",
            "Requirement already satisfied: kiwisolver>=1.0.1 in /usr/local/lib/python3.7/dist-packages (from matplotlib->plot-keras-history) (1.4.4)\n",
            "Requirement already satisfied: numpy>=1.11 in /usr/local/lib/python3.7/dist-packages (from matplotlib->plot-keras-history) (1.21.6)\n",
            "Requirement already satisfied: typing-extensions in /usr/local/lib/python3.7/dist-packages (from kiwisolver>=1.0.1->matplotlib->plot-keras-history) (4.1.1)\n",
            "Requirement already satisfied: six>=1.5 in /usr/local/lib/python3.7/dist-packages (from python-dateutil>=2.1->matplotlib->plot-keras-history) (1.15.0)\n",
            "Requirement already satisfied: pytz>=2017.3 in /usr/local/lib/python3.7/dist-packages (from pandas->plot-keras-history) (2022.5)\n"
          ]
        }
      ]
    },
    {
      "cell_type": "code",
      "source": [
        "from plot_keras_history import show_history, plot_history\n"
      ],
      "metadata": {
        "id": "PM2J-SLaKj_S"
      },
      "execution_count": 45,
      "outputs": []
    },
    {
      "cell_type": "code",
      "source": [
        "#Reading dataset\n",
        "def read_dataset():\n",
        "  df = pd.read_csv(\"/content/drive/MyDrive/bank_notes.csv\")\n",
        "  #Print columns\n",
        "  X = df[df.columns[0:4]].values\n",
        "  y = df[df.columns[4]]\n",
        "\n",
        "  #Encode dependent variable\n",
        "  encoder = LabelEncoder()\n",
        "  encoder.fit(y)\n",
        "  y = encoder.transform(y)\n",
        "  Y = one_hot_encode(y)\n",
        "  print(X.shape)\n",
        "  return (X,Y)\n",
        "\n",
        "#Define encoder function\n",
        "def one_hot_encode(labels):\n",
        "  n_labels = len(labels)\n",
        "  n_unique_labels = len(np.unique(labels))\n",
        "  one_hot_encode = np.zeros((n_labels, n_unique_labels))\n",
        "  one_hot_encode[np.arange(n_labels), labels] = 1\n",
        "  return one_hot_encode"
      ],
      "metadata": {
        "id": "F6FzO1Tb5dFW"
      },
      "execution_count": 46,
      "outputs": []
    },
    {
      "cell_type": "code",
      "source": [
        "#Read dataset\n",
        "X, Y = read_dataset()\n",
        "\n",
        "#Shuffle the dataset to mix up the rows\n",
        "X, Y = shuffle(X, Y, random_state=1)\n",
        "\n",
        "#Convert dataset into train and test part\n",
        "train_x, test_x, train_y, test_y = train_test_split(X, Y, test_size=0.20, random_state=415)\n",
        "\n",
        "#Inspect the shape of the training and testing data\n",
        "print(train_x.shape)\n",
        "print(train_y.shape)\n",
        "print(test_x.shape)\n",
        "print(test_y.shape)"
      ],
      "metadata": {
        "colab": {
          "base_uri": "https://localhost:8080/"
        },
        "id": "03ppusfu7-lr",
        "outputId": "7e578530-4380-4dd8-9d85-9cfe9a38bed6"
      },
      "execution_count": 47,
      "outputs": [
        {
          "output_type": "stream",
          "name": "stdout",
          "text": [
            "(1372, 4)\n",
            "(1097, 4)\n",
            "(1097, 2)\n",
            "(275, 4)\n",
            "(275, 2)\n"
          ]
        }
      ]
    },
    {
      "cell_type": "code",
      "source": [
        "#Define the important parameters and variable to work with tensors\n",
        "learning_rate = 0.3\n",
        "training_epochs = 100\n",
        "cost_history = np.empty(shape=[1], dtype=float)\n",
        "n_dim = X.shape[1]\n",
        "print(\"n_dim\", n_dim)\n",
        "n_class = 2\n",
        "model_path = \"C:\\\\Users\""
      ],
      "metadata": {
        "colab": {
          "base_uri": "https://localhost:8080/"
        },
        "id": "1LpUjMSdAVn2",
        "outputId": "8cb83acc-4ee4-4426-ce99-a01044ac5d10"
      },
      "execution_count": 48,
      "outputs": [
        {
          "output_type": "stream",
          "name": "stdout",
          "text": [
            "n_dim 4\n"
          ]
        }
      ]
    },
    {
      "cell_type": "code",
      "source": [
        "#Define number of hidden layers and number of neurons for each layer\n",
        "n_hidden_1 = 10\n",
        "n_hidden_2 = 10\n",
        "n_hidden_3 = 10\n",
        "n_hidden_4 = 10\n",
        "\n",
        "x = tf.placeholder(tf.float32, [None,n_dim])\n",
        "w = tf.Variable(tf.zeros([n_dim, n_class]))\n",
        "b = tf.Variable(tf.zeros([n_class]))\n",
        "y_ = tf.placeholder(tf.float32, [None, n_class])"
      ],
      "metadata": {
        "id": "CVcdjmHCHY66"
      },
      "execution_count": 49,
      "outputs": []
    },
    {
      "cell_type": "code",
      "source": [
        "#Define the model\n",
        "def multilayer_perceptron(x, weights, biases):\n",
        "\t# Hidden layer with RELU activation\n",
        "\n",
        "\tlayer_1 = tf.add(tf.matmul(x, weights['h1']),biases['b1'])\n",
        "\tlayer_1 = tf.nn.relu(layer_1)\n",
        "\n",
        "\t#Hidden layer with relu activation\n",
        "\tlayer_2 = tf.add(tf.matmul(layer_1, weights['h2']),biases['b2'])\n",
        "\tlayer_2 = tf.nn.relu(layer_2)\n",
        "\n",
        "\t#Hidden layer with relu activation\n",
        "\tlayer_3 = tf.add(tf.matmul(layer_2, weights['h3']),biases['b3'])\n",
        "\tlayer_3 = tf.nn.relu(layer_3)\n",
        "\n",
        "\t#Hidden layer with relu activation\n",
        "\tlayer_4 = tf.add(tf.matmul(layer_3, weights['h4']),biases['b4'])\n",
        "\tlayer_4 = tf.nn.relu(layer_4)\n",
        "\n",
        "\t#Output layer with sigmoid activation\n",
        "\tout_layer = tf.matmul(layer_4, weights['out'])+biases['out']\n",
        "\tout_layer = tf.nn.sigmoid(out_layer)\n",
        "\treturn out_layer\n"
      ],
      "metadata": {
        "id": "T30n4g9pHl5A"
      },
      "execution_count": 50,
      "outputs": []
    },
    {
      "cell_type": "code",
      "source": [
        "#Define the weights and the biases for each layer\n",
        "\n",
        "weights = {\n",
        "\t'h1':tf.Variable(tf.truncated_normal([n_dim, n_hidden_1])),\n",
        "\t'h2':tf.Variable(tf.truncated_normal([n_hidden_1, n_hidden_2])),\n",
        "\t'h3':tf.Variable(tf.truncated_normal([n_hidden_2, n_hidden_3])),\n",
        "\t'h4':tf.Variable(tf.truncated_normal([n_hidden_3, n_hidden_4])),\n",
        "\t'out':tf.Variable(tf.truncated_normal([n_hidden_4, n_class]))\n",
        "}\n",
        "\n",
        "biases = {\n",
        "\t'b1':tf.Variable(tf.truncated_normal([n_hidden_1])),\n",
        "\t'b2':tf.Variable(tf.truncated_normal([n_hidden_2])),\n",
        "\t'b3':tf.Variable(tf.truncated_normal([n_hidden_3])),\n",
        "\t'b4':tf.Variable(tf.truncated_normal([n_hidden_4])),\n",
        "\t'out':tf.Variable(tf.truncated_normal([n_class])),\n",
        "}"
      ],
      "metadata": {
        "id": "VtaWesAyIL8W"
      },
      "execution_count": 51,
      "outputs": []
    },
    {
      "cell_type": "code",
      "source": [
        "#Initialize the variables\n",
        "init = tf.global_variables_initializer()\n",
        "saver = tf.train.Saver()\n",
        "\n",
        "#call your model defined\n",
        "y = multilayer_perceptron(x, weights, biases)\n",
        "\n",
        "#Define the cost function and optimizer\n",
        "cost_function = tf.reduce_mean(tf.nn.softmax_cross_entropy_with_logits(logits=y, labels=y_))\n",
        "training_steps = tf.train.GradientDescentOptimizer(learning_rate).minimize(cost_function)\n",
        "\n",
        "sess = tf.Session()\n",
        "sess.run(init)"
      ],
      "metadata": {
        "id": "TlSDkU0zKwF3"
      },
      "execution_count": 52,
      "outputs": []
    },
    {
      "cell_type": "code",
      "source": [
        "#Calculate the cost and accuracy for epoch\n",
        "\n",
        "mse_history = []\n",
        "accuracy_history = []\n",
        "\n",
        "for epoch in range(training_epochs):\n",
        "\tsess.run(training_steps, feed_dict={x:train_x, y_:train_y})\n",
        "\tcost = sess.run(cost_function, feed_dict={x:train_x, y_:train_y})\n",
        "\tcost_history = np.append(cost_history, cost)\n",
        "\tcorrect_prediction = tf.equal(tf.argmax(y, 1), tf.argmax(y_, 1))\n",
        "\taccuracy = tf.reduce_mean(tf.cast(correct_prediction, tf.float32))\n",
        "\n",
        "\t#print(\"Accuracy:\", (sess.run(accuracy, feed_dict={x:test_x, y:test_y})))\n",
        "\tpred_y = sess.run(y, feed_dict={x: test_x})\n",
        "\tmse = tf.reduce_mean(tf.square(pred_y - test_y))\n",
        "\tmse_ = sess.run(mse)\n",
        "\tmse_history.append(mse_)\n",
        "\taccuracy = (sess.run(accuracy, feed_dict={x:train_x, y_:train_y}))\n",
        "\taccuracy_history.append(accuracy)\n",
        "\n",
        "\tprint('epoch : ', epoch, '-', 'cost : ',cost, \" - MSE : \",mse_, \"- Train Accuracy : \", accuracy)\n",
        "\n",
        "save_path = saver.save(sess, model_path)\n",
        "print(\"Model saved in file : %s\" % save_path)"
      ],
      "metadata": {
        "colab": {
          "base_uri": "https://localhost:8080/"
        },
        "id": "sX_ylZzkLAFq",
        "outputId": "5854e1df-5242-4d27-f868-6298752a1fa7"
      },
      "execution_count": 53,
      "outputs": [
        {
          "output_type": "stream",
          "name": "stdout",
          "text": [
            "epoch :  0 - cost :  0.7001646  - MSE :  0.4239208262060193 - Train Accuracy :  0.5013674\n",
            "epoch :  1 - cost :  0.69248116  - MSE :  0.41963990384202804 - Train Accuracy :  0.50592524\n",
            "epoch :  2 - cost :  0.690267  - MSE :  0.418236995025347 - Train Accuracy :  0.50592524\n",
            "epoch :  3 - cost :  0.68770283  - MSE :  0.4176906550777279 - Train Accuracy :  0.50683683\n",
            "epoch :  4 - cost :  0.685397  - MSE :  0.41676274468443913 - Train Accuracy :  0.50683683\n",
            "epoch :  5 - cost :  0.68436724  - MSE :  0.41586212826432706 - Train Accuracy :  0.50683683\n",
            "epoch :  6 - cost :  0.68307114  - MSE :  0.41519481133102 - Train Accuracy :  0.50957155\n",
            "epoch :  7 - cost :  0.68197006  - MSE :  0.41498076896259095 - Train Accuracy :  0.50957155\n",
            "epoch :  8 - cost :  0.6812186  - MSE :  0.4148294207539915 - Train Accuracy :  0.51139474\n",
            "epoch :  9 - cost :  0.68042517  - MSE :  0.4145050369444171 - Train Accuracy :  0.5123063\n",
            "epoch :  10 - cost :  0.6792941  - MSE :  0.4128811853607872 - Train Accuracy :  0.5168642\n",
            "epoch :  11 - cost :  0.67571527  - MSE :  0.4065002049482443 - Train Accuracy :  0.5205105\n",
            "epoch :  12 - cost :  0.66973  - MSE :  0.3960372243150353 - Train Accuracy :  0.5232452\n",
            "epoch :  13 - cost :  0.6651988  - MSE :  0.3834556340948315 - Train Accuracy :  0.53418416\n",
            "epoch :  14 - cost :  0.6619399  - MSE :  0.3780937431337205 - Train Accuracy :  0.5378305\n",
            "epoch :  15 - cost :  0.6606542  - MSE :  0.37265843136194277 - Train Accuracy :  0.5432999\n",
            "epoch :  16 - cost :  0.6601027  - MSE :  0.37126480636826775 - Train Accuracy :  0.5423883\n",
            "epoch :  17 - cost :  0.6595802  - MSE :  0.36830547511447076 - Train Accuracy :  0.5432999\n",
            "epoch :  18 - cost :  0.6589182  - MSE :  0.3658561457548652 - Train Accuracy :  0.54512304\n",
            "epoch :  19 - cost :  0.6581122  - MSE :  0.364866491287408 - Train Accuracy :  0.54603463\n",
            "epoch :  20 - cost :  0.65749747  - MSE :  0.3638298193126495 - Train Accuracy :  0.5478578\n",
            "epoch :  21 - cost :  0.65660584  - MSE :  0.3635063861975981 - Train Accuracy :  0.5478578\n",
            "epoch :  22 - cost :  0.6558399  - MSE :  0.36329424222548923 - Train Accuracy :  0.54968095\n",
            "epoch :  23 - cost :  0.6575589  - MSE :  0.36738863985994 - Train Accuracy :  0.538742\n",
            "epoch :  24 - cost :  0.6561698  - MSE :  0.36318496196420996 - Train Accuracy :  0.5423883\n",
            "epoch :  25 - cost :  0.6549302  - MSE :  0.36222209317192045 - Train Accuracy :  0.5469462\n",
            "epoch :  26 - cost :  0.65362364  - MSE :  0.361901779099048 - Train Accuracy :  0.5515041\n",
            "epoch :  27 - cost :  0.6504996  - MSE :  0.3605750539473784 - Train Accuracy :  0.556062\n",
            "epoch :  28 - cost :  0.6537082  - MSE :  0.36488684588217035 - Train Accuracy :  0.5569736\n",
            "epoch :  29 - cost :  0.6537191  - MSE :  0.3604146119438209 - Train Accuracy :  0.55332726\n",
            "epoch :  30 - cost :  0.6519174  - MSE :  0.35984613695549605 - Train Accuracy :  0.556062\n",
            "epoch :  31 - cost :  0.64888483  - MSE :  0.3579417136262165 - Train Accuracy :  0.55788517\n",
            "epoch :  32 - cost :  0.6409224  - MSE :  0.34683419873244464 - Train Accuracy :  0.55788517\n",
            "epoch :  33 - cost :  0.6431434  - MSE :  0.346787617599238 - Train Accuracy :  0.55788517\n",
            "epoch :  34 - cost :  0.6550915  - MSE :  0.36581525861771536 - Train Accuracy :  0.55059254\n",
            "epoch :  35 - cost :  0.654066  - MSE :  0.36482262339767796 - Train Accuracy :  0.55788517\n",
            "epoch :  36 - cost :  0.6528053  - MSE :  0.3617471245178525 - Train Accuracy :  0.562443\n",
            "epoch :  37 - cost :  0.6516009  - MSE :  0.35831660560343503 - Train Accuracy :  0.5642662\n",
            "epoch :  38 - cost :  0.64908874  - MSE :  0.35718973607957216 - Train Accuracy :  0.56608933\n",
            "epoch :  39 - cost :  0.6464167  - MSE :  0.3538649041312266 - Train Accuracy :  0.56517774\n",
            "epoch :  40 - cost :  0.6386403  - MSE :  0.3447126180499701 - Train Accuracy :  0.56517774\n",
            "epoch :  41 - cost :  0.65652496  - MSE :  0.3674481497198636 - Train Accuracy :  0.56517774\n",
            "epoch :  42 - cost :  0.6522956  - MSE :  0.3661515163423368 - Train Accuracy :  0.55423886\n",
            "epoch :  43 - cost :  0.650941  - MSE :  0.3641167506670045 - Train Accuracy :  0.556062\n",
            "epoch :  44 - cost :  0.6494531  - MSE :  0.36116545133424105 - Train Accuracy :  0.5587967\n",
            "epoch :  45 - cost :  0.6483279  - MSE :  0.3579900253435759 - Train Accuracy :  0.562443\n",
            "epoch :  46 - cost :  0.64646333  - MSE :  0.3556484536650745 - Train Accuracy :  0.56517774\n",
            "epoch :  47 - cost :  0.6444853  - MSE :  0.3535540234311755 - Train Accuracy :  0.5670009\n",
            "epoch :  48 - cost :  0.6440494  - MSE :  0.3522349750206205 - Train Accuracy :  0.56791246\n",
            "epoch :  49 - cost :  0.6426403  - MSE :  0.3496541529706469 - Train Accuracy :  0.56791246\n",
            "epoch :  50 - cost :  0.6353951  - MSE :  0.3427593862478911 - Train Accuracy :  0.56608933\n",
            "epoch :  51 - cost :  0.64067537  - MSE :  0.34485506439036906 - Train Accuracy :  0.56608933\n",
            "epoch :  52 - cost :  0.647473  - MSE :  0.3571740436538587 - Train Accuracy :  0.5606199\n",
            "epoch :  53 - cost :  0.6462097  - MSE :  0.35419565028038363 - Train Accuracy :  0.562443\n",
            "epoch :  54 - cost :  0.64449555  - MSE :  0.3526210626876641 - Train Accuracy :  0.56608933\n",
            "epoch :  55 - cost :  0.6431424  - MSE :  0.3503692218853646 - Train Accuracy :  0.56791246\n",
            "epoch :  56 - cost :  0.6420623  - MSE :  0.34840852751595713 - Train Accuracy :  0.5670009\n",
            "epoch :  57 - cost :  0.6360261  - MSE :  0.34246295391049525 - Train Accuracy :  0.56791246\n",
            "epoch :  58 - cost :  0.6336472  - MSE :  0.3410352665619508 - Train Accuracy :  0.56791246\n",
            "epoch :  59 - cost :  0.6365493  - MSE :  0.3416529306727545 - Train Accuracy :  0.5670009\n",
            "epoch :  60 - cost :  0.64420706  - MSE :  0.34975991778162674 - Train Accuracy :  0.56608933\n",
            "epoch :  61 - cost :  0.642775  - MSE :  0.34850196667321404 - Train Accuracy :  0.56973565\n",
            "epoch :  62 - cost :  0.64192045  - MSE :  0.34713191331401794 - Train Accuracy :  0.56973565\n",
            "epoch :  63 - cost :  0.63943845  - MSE :  0.3429403452174682 - Train Accuracy :  0.57064724\n",
            "epoch :  64 - cost :  0.6304115  - MSE :  0.3380362018629019 - Train Accuracy :  0.56791246\n",
            "epoch :  65 - cost :  0.6366647  - MSE :  0.33926444876657136 - Train Accuracy :  0.56882405\n",
            "epoch :  66 - cost :  0.63441074  - MSE :  0.33867964333689543 - Train Accuracy :  0.57064724\n",
            "epoch :  67 - cost :  0.6320911  - MSE :  0.33796450197126743 - Train Accuracy :  0.56973565\n",
            "epoch :  68 - cost :  0.62763375  - MSE :  0.3357933382659649 - Train Accuracy :  0.56973565\n",
            "epoch :  69 - cost :  0.62658226  - MSE :  0.33480422782360114 - Train Accuracy :  0.56973565\n",
            "epoch :  70 - cost :  0.62621623  - MSE :  0.3342027182877661 - Train Accuracy :  0.56973565\n",
            "epoch :  71 - cost :  0.62577945  - MSE :  0.33359309129220244 - Train Accuracy :  0.56973565\n",
            "epoch :  72 - cost :  0.62524164  - MSE :  0.3332414495138784 - Train Accuracy :  0.57064724\n",
            "epoch :  73 - cost :  0.6247551  - MSE :  0.33299664710370536 - Train Accuracy :  0.57064724\n",
            "epoch :  74 - cost :  0.6243665  - MSE :  0.3327812582722052 - Train Accuracy :  0.57064724\n",
            "epoch :  75 - cost :  0.6240761  - MSE :  0.33257136748175353 - Train Accuracy :  0.5715588\n",
            "epoch :  76 - cost :  0.62385577  - MSE :  0.33237098383172436 - Train Accuracy :  0.5715588\n",
            "epoch :  77 - cost :  0.6236731  - MSE :  0.33217052339520253 - Train Accuracy :  0.5715588\n",
            "epoch :  78 - cost :  0.6235078  - MSE :  0.33198423666925314 - Train Accuracy :  0.5715588\n",
            "epoch :  79 - cost :  0.6233385  - MSE :  0.33179467151259373 - Train Accuracy :  0.5715588\n",
            "epoch :  80 - cost :  0.62319195  - MSE :  0.33162719374077254 - Train Accuracy :  0.5715588\n",
            "epoch :  81 - cost :  0.62304085  - MSE :  0.3314736604465619 - Train Accuracy :  0.5715588\n",
            "epoch :  82 - cost :  0.62288004  - MSE :  0.3313334682853086 - Train Accuracy :  0.5715588\n",
            "epoch :  83 - cost :  0.62272286  - MSE :  0.3312093176559641 - Train Accuracy :  0.5715588\n",
            "epoch :  84 - cost :  0.6225783  - MSE :  0.3310943141010708 - Train Accuracy :  0.57247037\n",
            "epoch :  85 - cost :  0.6224537  - MSE :  0.33098446121554875 - Train Accuracy :  0.57247037\n",
            "epoch :  86 - cost :  0.6223456  - MSE :  0.3308755053790621 - Train Accuracy :  0.57247037\n",
            "epoch :  87 - cost :  0.6222487  - MSE :  0.330764246921752 - Train Accuracy :  0.57247037\n",
            "epoch :  88 - cost :  0.6221594  - MSE :  0.33064821385872634 - Train Accuracy :  0.57247037\n",
            "epoch :  89 - cost :  0.622077  - MSE :  0.33052683616566647 - Train Accuracy :  0.57247037\n",
            "epoch :  90 - cost :  0.6220064  - MSE :  0.33039805900451363 - Train Accuracy :  0.57247037\n",
            "epoch :  91 - cost :  0.6219457  - MSE :  0.33027556013573134 - Train Accuracy :  0.57247037\n",
            "epoch :  92 - cost :  0.6218862  - MSE :  0.3301545821670536 - Train Accuracy :  0.57247037\n",
            "epoch :  93 - cost :  0.6218272  - MSE :  0.3300265699686207 - Train Accuracy :  0.57338196\n",
            "epoch :  94 - cost :  0.6217682  - MSE :  0.32989136768445215 - Train Accuracy :  0.57338196\n",
            "epoch :  95 - cost :  0.6217083  - MSE :  0.32974838900115194 - Train Accuracy :  0.57338196\n",
            "epoch :  96 - cost :  0.6216454  - MSE :  0.3295976086487854 - Train Accuracy :  0.57338196\n",
            "epoch :  97 - cost :  0.62158036  - MSE :  0.3294383367673484 - Train Accuracy :  0.57429355\n",
            "epoch :  98 - cost :  0.62151295  - MSE :  0.32926984100384654 - Train Accuracy :  0.57429355\n",
            "epoch :  99 - cost :  0.62144405  - MSE :  0.32909220305346243 - Train Accuracy :  0.57429355\n",
            "Model saved in file : C:\\Users\n"
          ]
        }
      ]
    },
    {
      "cell_type": "code",
      "source": [],
      "metadata": {
        "id": "nawyR3HWLLVo"
      },
      "execution_count": 53,
      "outputs": []
    },
    {
      "cell_type": "code",
      "source": [
        "#plot mse and accuracy graph\n",
        "\n",
        "plt.plot(mse_history, \"r\")\n",
        "plt.show()\n",
        "plt.plot(accuracy_history)\n",
        "plt.show()\n",
        "\n",
        "#Print the final accuracy\n",
        "\n",
        "correct_prediction = tf.equal(tf.argmax(y,1), tf.argmax(y_, 1))\n",
        "accuracy = tf.reduce_mean(tf.cast(correct_prediction, tf.float32))\n",
        "print(\"Test Accuracy : \", (sess.run(accuracy, feed_dict={x:test_x, y_:test_y})))\n",
        "\n",
        "#print the final mean square error\n",
        "\n",
        "pred_y = sess.run(y, feed_dict={x:test_x})\n",
        "mse = tf.reduce_mean(tf.square(pred_y - test_y))\n",
        "print(\"MSE : %.4f\"%sess.run(mse))"
      ],
      "metadata": {
        "colab": {
          "base_uri": "https://localhost:8080/",
          "height": 550
        },
        "id": "gNMr7vZBHdFP",
        "outputId": "04fe5f08-4c84-4957-905b-52424bc307ec"
      },
      "execution_count": 54,
      "outputs": [
        {
          "output_type": "display_data",
          "data": {
            "text/plain": [
              "<Figure size 432x288 with 1 Axes>"
            ],
            "image/png": "[encoded data removed]"
          },
          "metadata": {
            "needs_background": "light"
          }
        },
        {
          "output_type": "display_data",
          "data": {
            "text/plain": [
              "<Figure size 432x288 with 1 Axes>"
            ],
            "image/png": "[encoded data removed]"
          },
          "metadata": {
            "needs_background": "light"
          }
        },
        {
          "output_type": "stream",
          "name": "stdout",
          "text": [
            "Test Accuracy :  0.5781818\n",
            "MSE : 0.3291\n"
          ]
        }
      ]
    }
  ]
}